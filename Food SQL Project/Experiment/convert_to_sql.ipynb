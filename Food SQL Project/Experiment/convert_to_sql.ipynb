{
 "cells": [
  {
   "cell_type": "code",
   "execution_count": 1,
   "metadata": {},
   "outputs": [],
   "source": [
    "import os\n",
    "os.chdir(\"../\")"
   ]
  },
  {
   "cell_type": "code",
   "execution_count": 2,
   "metadata": {},
   "outputs": [
    {
     "data": {
      "text/plain": [
       "True"
      ]
     },
     "execution_count": 2,
     "metadata": {},
     "output_type": "execute_result"
    }
   ],
   "source": [
    "from src.entity import AgentState, get_database_schema, engine, CheckRelevance, ConvertToSQL\n",
    "from langchain_core.prompts import ChatPromptTemplate\n",
    "from langchain_core.runnables.config import RunnableConfig\n",
    "from langchain_cohere import ChatCohere\n",
    "from langgraph.graph import StateGraph, END\n",
    "from src.get_current_user import get_current_user\n",
    "from src.check_revelance import check_relevance\n",
    "from dotenv import load_dotenv\n",
    "load_dotenv()"
   ]
  },
  {
   "cell_type": "code",
   "execution_count": 3,
   "metadata": {},
   "outputs": [],
   "source": [
    "def relevance_router(state: AgentState):\n",
    "    if state[\"relevance\"].lower() == \"relevant\":\n",
    "        return \"convert_to_sql\"\n",
    "    else:\n",
    "        return \"END\""
   ]
  },
  {
   "cell_type": "code",
   "execution_count": 4,
   "metadata": {},
   "outputs": [],
   "source": [
    "def convert_nl_to_sql(state: AgentState, config: RunnableConfig):\n",
    "    question = state[\"question\"]\n",
    "    current_user = state[\"current_user\"]\n",
    "    schema = get_database_schema(engine)\n",
    "    print(f\"Converting question to SQL for user '{current_user}': {question}\")\n",
    "    system = \"\"\"You are an assistant that converts natural language questions into SQL queries based on the following schema:\n",
    "\n",
    "        {schema}\n",
    "\n",
    "        The current user is '{current_user}'. Ensure that all query-related data is scoped to this user.\n",
    "\n",
    "        use sql_query to provide only the SQL query without any explanations. Alias columns appropriately to match the expected keys in the result.\n",
    "        there can me multiple query for a particular question.\n",
    "        For example, alias 'food.name' as 'food_name' and 'food.price' as 'price'.\n",
    "    \"\"\".format(schema=schema, current_user=current_user)\n",
    "    convert_prompt = ChatPromptTemplate.from_messages(\n",
    "        [\n",
    "            (\"system\", system),\n",
    "            (\"human\", \"Question: {question}\"),\n",
    "        ]\n",
    "    )\n",
    "    llm = ChatCohere(model = \"command-r-plus-08-2024\",temperature=0)\n",
    "    structured_llm = llm.with_structured_output(ConvertToSQL)\n",
    "    sql_generator = convert_prompt | structured_llm\n",
    "    result = sql_generator.invoke({\"question\": question})\n",
    "    state[\"sql_query\"] = result.sql_query\n",
    "    print(f\"Generated SQL query: {state['sql_query']}\")\n",
    "    # print(state)\n",
    "    return state"
   ]
  },
  {
   "cell_type": "code",
   "execution_count": 5,
   "metadata": {},
   "outputs": [],
   "source": [
    "workflow = StateGraph(AgentState)\n",
    "\n",
    "workflow.add_node(\"get_current_user\", get_current_user)\n",
    "workflow.add_node(\"check_relevance\", check_relevance)\n",
    "workflow.add_node(\"convert_to_sql\", convert_nl_to_sql)\n",
    "workflow.add_edge(\"get_current_user\", \"check_relevance\")\n",
    "workflow.add_conditional_edges(\n",
    "    \"check_relevance\",\n",
    "    relevance_router,\n",
    "    {\n",
    "        \"convert_to_sql\": \"convert_to_sql\",\n",
    "        \"END\": END,\n",
    "    },\n",
    ")\n",
    "workflow.add_edge(\"convert_to_sql\", END)\n",
    "workflow.set_entry_point(\"get_current_user\")\n",
    "\n",
    "app = workflow.compile()"
   ]
  },
  {
   "cell_type": "code",
   "execution_count": 6,
   "metadata": {},
   "outputs": [
    {
     "data": {
      "image/jpeg": "[encoded data removed]",
      "text/plain": [
       "<IPython.core.display.Image object>"
      ]
     },
     "metadata": {},
     "output_type": "display_data"
    }
   ],
   "source": [
    "from IPython.display import Image, display\n",
    "\n",
    "try:\n",
    "    display(Image(app.get_graph().draw_mermaid_png()))\n",
    "except:\n",
    "    pass"
   ]
  },
  {
   "cell_type": "code",
   "execution_count": 8,
   "metadata": {},
   "outputs": [
    {
     "name": "stdout",
     "output_type": "stream",
     "text": [
      "Retrieving the current user based on user ID.\n",
      "Current user set to: User 2\n",
      "Retrieved database schema.\n",
      "Checking relevance of the question: Show me my orders\n",
      "Relevance determined: relevant\n",
      "Retrieved database schema.\n",
      "Converting question to SQL for user 'User 2': Show me my orders\n",
      "Generated SQL query: SELECT food.name AS food_name, food.price AS price FROM food INNER JOIN orders ON food.id = orders.food_id WHERE orders.user_id = 2;\n",
      "Result: {'question': 'Show me my orders', 'sql_query': 'SELECT food.name AS food_name, food.price AS price FROM food INNER JOIN orders ON food.id = orders.food_id WHERE orders.user_id = 2;', 'current_user': 'User 2', 'attempts': 0, 'relevance': 'relevant'}\n"
     ]
    }
   ],
   "source": [
    "config = {\"configurable\": {\"current_user_id\": \"2\"}}\n",
    "user_question_1 = \"Show me my orders\"\n",
    "result_1 = app.invoke({\"question\": user_question_1, \"attempts\": 0}, config=config)\n",
    "print(\"Result:\", result_1)"
   ]
  },
  {
   "cell_type": "code",
   "execution_count": 9,
   "metadata": {},
   "outputs": [
    {
     "name": "stdout",
     "output_type": "stream",
     "text": [
      "SELECT food.name AS food_name, food.price AS price FROM food INNER JOIN orders ON food.id = orders.food_id WHERE orders.user_id = 2;\n"
     ]
    }
   ],
   "source": [
    "print(result_1['sql_query'])"
   ]
  }
 ],
 "metadata": {
  "kernelspec": {
   "display_name": "langgraph",
   "language": "python",
   "name": "python3"
  },
  "language_info": {
   "codemirror_mode": {
    "name": "ipython",
    "version": 3
   },
   "file_extension": ".py",
   "mimetype": "text/x-python",
   "name": "python",
   "nbconvert_exporter": "python",
   "pygments_lexer": "ipython3",
   "version": "3.11.10"
  }
 },
 "nbformat": 4,
 "nbformat_minor": 2
}
