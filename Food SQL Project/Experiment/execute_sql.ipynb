{
 "cells": [
  {
   "cell_type": "code",
   "execution_count": 1,
   "metadata": {},
   "outputs": [],
   "source": [
    "import os\n",
    "os.chdir(\"../\")"
   ]
  },
  {
   "cell_type": "code",
   "execution_count": 2,
   "metadata": {},
   "outputs": [],
   "source": [
    "from src.entity import AgentState, SessionLocal\n",
    "from langgraph.graph import StateGraph, END\n",
    "from src.get_current_user import get_current_user\n",
    "from src.check_revelance import check_relevance\n",
    "from src.convert_to_sql import convert_nl_to_sql\n",
    "from sqlalchemy import text"
   ]
  },
  {
   "cell_type": "code",
   "execution_count": 3,
   "metadata": {},
   "outputs": [],
   "source": [
    "def relevance_router(state: AgentState):\n",
    "    if state[\"relevance\"].lower() == \"relevant\":\n",
    "        return \"convert_to_sql\"\n",
    "    else:\n",
    "        return \"END\""
   ]
  },
  {
   "cell_type": "code",
   "execution_count": 4,
   "metadata": {},
   "outputs": [],
   "source": [
    "def execute_sql(state: AgentState):\n",
    "    sql_query = state[\"sql_query\"].strip()\n",
    "    session = SessionLocal()\n",
    "    print(f\"Executing SQL query: {sql_query}\")\n",
    "    try:\n",
    "        result = session.execute(text(sql_query))\n",
    "        if sql_query.lower().startswith(\"select\"):\n",
    "            rows = result.fetchall()\n",
    "            columns = result.keys()\n",
    "            if rows:\n",
    "                header = \", \".join(columns)\n",
    "                state[\"query_rows\"] = [dict(zip(columns, row)) for row in rows]\n",
    "                print(f\"Raw SQL Query Result: {state['query_rows']}\")\n",
    "                # Format the result for readability\n",
    "                data = \"; \".join([f\"{row.get('food_name', row.get('name'))} for ${row.get('price', row.get('food_price'))}\" for row in state[\"query_rows\"]])\n",
    "                formatted_result = f\"{header}\\n{data}\"\n",
    "            else:\n",
    "                state[\"query_rows\"] = []\n",
    "                formatted_result = \"No results found.\"\n",
    "            state[\"query_result\"] = formatted_result\n",
    "            state[\"sql_error\"] = False\n",
    "            print(\"SQL SELECT query executed successfully.\")\n",
    "        else:\n",
    "            session.commit()\n",
    "            state[\"query_result\"] = \"The action has been successfully completed.\"\n",
    "            state[\"sql_error\"] = False\n",
    "            print(\"SQL command executed successfully.\")\n",
    "    except Exception as e:\n",
    "        state[\"query_result\"] = f\"Error executing SQL query: {str(e)}\"\n",
    "        state[\"sql_error\"] = True\n",
    "        print(f\"Error executing SQL query: {str(e)}\")\n",
    "    finally:\n",
    "        session.close()\n",
    "    return state"
   ]
  },
  {
   "cell_type": "code",
   "execution_count": 5,
   "metadata": {},
   "outputs": [],
   "source": [
    "workflow = StateGraph(AgentState)\n",
    "\n",
    "workflow.add_node(\"get_current_user\", get_current_user)\n",
    "workflow.add_node(\"check_relevance\", check_relevance)\n",
    "workflow.add_node(\"convert_to_sql\", convert_nl_to_sql)\n",
    "workflow.add_node(\"execute_sql\", execute_sql)\n",
    "\n",
    "workflow.add_edge(\"get_current_user\", \"check_relevance\")\n",
    "workflow.add_conditional_edges(\n",
    "    \"check_relevance\",\n",
    "    relevance_router,\n",
    "    {\n",
    "        \"convert_to_sql\": \"convert_to_sql\",\n",
    "        \"END\": END,\n",
    "    },\n",
    ")\n",
    "workflow.add_edge(\"convert_to_sql\", \"execute_sql\")\n",
    "workflow.add_edge(\"execute_sql\", END)\n",
    "workflow.set_entry_point(\"get_current_user\")\n",
    "\n",
    "app = workflow.compile()"
   ]
  },
  {
   "cell_type": "code",
   "execution_count": 6,
   "metadata": {},
   "outputs": [
    {
     "data": {
      "image/jpeg": "[encoded data removed]",
      "text/plain": [
       "<IPython.core.display.Image object>"
      ]
     },
     "metadata": {},
     "output_type": "display_data"
    }
   ],
   "source": [
    "from IPython.display import Image, display\n",
    "\n",
    "try:\n",
    "    display(Image(app.get_graph().draw_mermaid_png()))\n",
    "except:\n",
    "    pass"
   ]
  },
  {
   "cell_type": "code",
   "execution_count": 7,
   "metadata": {},
   "outputs": [
    {
     "name": "stdout",
     "output_type": "stream",
     "text": [
      "Retrieving the current user based on user ID.\n",
      "Current user set to: User 2\n",
      "Retrieved database schema.\n",
      "Checking relevance of the question: how much does food 3 cost?\n",
      "Relevance determined: relevant\n",
      "Retrieved database schema.\n",
      "Converting question to SQL for user 'User 2': how much does food 3 cost?\n",
      "Generated SQL query: SELECT food.price FROM food WHERE food.id = 3;\n",
      "Executing SQL query: SELECT food.price FROM food WHERE food.id = 3;\n",
      "Raw SQL Query Result: [{'price': 42.0}]\n",
      "SQL SELECT query executed successfully.\n",
      "Result: {'question': 'how much does food 3 cost?', 'sql_query': 'SELECT food.price FROM food WHERE food.id = 3;', 'query_result': 'price\\nNone for $42.0', 'query_rows': [{'price': 42.0}], 'current_user': 'User 2', 'attempts': 0, 'relevance': 'relevant', 'sql_error': False}\n"
     ]
    }
   ],
   "source": [
    "config = {\"configurable\": {\"current_user_id\": \"2\"}}\n",
    "user_question_1 = \"how much does food 3 cost?\"\n",
    "result_1 = app.invoke({\"question\": user_question_1, \"attempts\": 0}, config=config)\n",
    "print(\"Result:\", result_1)"
   ]
  },
  {
   "cell_type": "code",
   "execution_count": 9,
   "metadata": {},
   "outputs": [
    {
     "name": "stdout",
     "output_type": "stream",
     "text": [
      "price\n",
      "None for $42.0\n"
     ]
    }
   ],
   "source": [
    "print(result_1['query_result'])"
   ]
  }
 ],
 "metadata": {
  "kernelspec": {
   "display_name": "langgraph",
   "language": "python",
   "name": "python3"
  },
  "language_info": {
   "codemirror_mode": {
    "name": "ipython",
    "version": 3
   },
   "file_extension": ".py",
   "mimetype": "text/x-python",
   "name": "python",
   "nbconvert_exporter": "python",
   "pygments_lexer": "ipython3",
   "version": "3.11.10"
  }
 },
 "nbformat": 4,
 "nbformat_minor": 2
}
