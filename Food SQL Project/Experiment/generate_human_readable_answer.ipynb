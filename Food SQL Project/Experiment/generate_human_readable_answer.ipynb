{
 "cells": [
  {
   "cell_type": "code",
   "execution_count": 1,
   "metadata": {},
   "outputs": [],
   "source": [
    "import os\n",
    "os.chdir(\"../\")"
   ]
  },
  {
   "cell_type": "code",
   "execution_count": 2,
   "metadata": {},
   "outputs": [
    {
     "data": {
      "text/plain": [
       "True"
      ]
     },
     "execution_count": 2,
     "metadata": {},
     "output_type": "execute_result"
    }
   ],
   "source": [
    "from src.entity import AgentState\n",
    "from langchain_core.prompts import ChatPromptTemplate\n",
    "from langchain_cohere import ChatCohere\n",
    "from langchain_core.output_parsers import StrOutputParser\n",
    "from src.get_current_user import get_current_user\n",
    "from src.check_revelance import check_relevance\n",
    "from src.convert_to_sql import convert_nl_to_sql\n",
    "from src.execute_sql import execute_sql\n",
    "from dotenv import load_dotenv\n",
    "from langgraph.graph import StateGraph, END\n",
    "load_dotenv()"
   ]
  },
  {
   "cell_type": "code",
   "execution_count": 3,
   "metadata": {},
   "outputs": [],
   "source": [
    "def generate_human_readable_answer(state: AgentState):\n",
    "    sql = state[\"sql_query\"]\n",
    "    question = state['question']\n",
    "    result = state[\"query_result\"]\n",
    "    current_user = state[\"current_user\"]\n",
    "    query_rows = state.get(\"query_rows\", [])\n",
    "    sql_error = state.get(\"sql_error\", False)\n",
    "    print(\"Generating a human-readable answer.\")\n",
    "    system = f\"\"\"You are an assistant that converts SQL query results into clear, natural language responses without including any identifiers like order IDs with respect to {question}. Start the response with a friendly greeting that includes the user's name.\n",
    "    \"\"\"\n",
    "    if sql_error:\n",
    "        # Directly relay the error message\n",
    "        generate_prompt = ChatPromptTemplate.from_messages(\n",
    "            [\n",
    "                (\"system\", system),\n",
    "                (\n",
    "                    \"human\",\n",
    "                    f\"\"\"SQL Query:\n",
    "                    {sql}\n",
    "\n",
    "                    Result:\n",
    "                    {result}\n",
    "\n",
    "                    Formulate a clear and understandable error message in a single sentence, starting with 'Hello {current_user},' informing them about the issue.\"\"\"\n",
    "                ),\n",
    "            ]\n",
    "        )\n",
    "    elif sql.lower().startswith(\"select\"):\n",
    "        if not query_rows:\n",
    "            # Handle cases with no orders\n",
    "            generate_prompt = ChatPromptTemplate.from_messages(\n",
    "                [\n",
    "                    (\"system\", system),\n",
    "                    (\n",
    "                        \"human\",\n",
    "                        f\"\"\"SQL Query:\n",
    "                        {sql}\n",
    "\n",
    "                        Result:\n",
    "                        {result}\n",
    "\n",
    "                        Formulate a clear and understandable answer to the original question in a single sentence, starting with 'Hello {current_user},' and mention that there are no orders found.\"\"\"\n",
    "                    ),\n",
    "                ]\n",
    "            )\n",
    "        else:\n",
    "            # Handle displaying orders\n",
    "            generate_prompt = ChatPromptTemplate.from_messages(\n",
    "                [\n",
    "                    (\"system\", system),\n",
    "                    (\n",
    "                        \"human\",\n",
    "                        f\"\"\"SQL Query:\n",
    "                        {sql}\n",
    "\n",
    "                        Result:\n",
    "                        {result}\n",
    "\n",
    "                        Formulate a clear and understandable answer to the original question in a single sentence, starting with 'Hello {current_user},' and list each item ordered along with its price. For example: 'Hello Bob, you have ordered Lasagne for $14.0 and Spaghetti Carbonara for $15.0.'\"\"\"\n",
    "                    ),\n",
    "                ]\n",
    "            )\n",
    "    else:\n",
    "        # Handle non-select queries\n",
    "        generate_prompt = ChatPromptTemplate.from_messages(\n",
    "            [\n",
    "                (\"system\", system),\n",
    "                (\n",
    "                    \"human\",\n",
    "                    f\"\"\"SQL Query:\n",
    "                    {sql}\n",
    "\n",
    "                    Result:\n",
    "                    {result}\n",
    "\n",
    "                    Formulate a clear and understandable confirmation message in a single sentence, starting with 'Hello {current_user},' confirming that your request has been successfully processed.\"\"\"\n",
    "                ),\n",
    "            ]\n",
    "        )\n",
    "\n",
    "    llm = ChatCohere(model = \"command-r-plus-08-2024\",temperature=0)\n",
    "    human_response = generate_prompt | llm | StrOutputParser()\n",
    "    answer = human_response.invoke({})\n",
    "    state[\"query_result\"] = answer\n",
    "    print(\"Generated human-readable answer.\")\n",
    "    return state"
   ]
  },
  {
   "cell_type": "code",
   "execution_count": 4,
   "metadata": {},
   "outputs": [],
   "source": [
    "def execute_sql_router(state: AgentState):\n",
    "    if not state.get(\"sql_error\", False):\n",
    "        return \"generate_human_readable_answer\"\n",
    "    else:\n",
    "        return \"END\""
   ]
  },
  {
   "cell_type": "code",
   "execution_count": 5,
   "metadata": {},
   "outputs": [],
   "source": [
    "def relevance_router(state: AgentState):\n",
    "    if state[\"relevance\"].lower() == \"relevant\":\n",
    "        return \"convert_to_sql\"\n",
    "    else:\n",
    "        return \"END\""
   ]
  },
  {
   "cell_type": "code",
   "execution_count": 6,
   "metadata": {},
   "outputs": [],
   "source": [
    "workflow = StateGraph(AgentState)\n",
    "\n",
    "workflow.add_node(\"get_current_user\", get_current_user)\n",
    "workflow.add_node(\"check_relevance\", check_relevance)\n",
    "workflow.add_node(\"convert_to_sql\", convert_nl_to_sql)\n",
    "workflow.add_node(\"execute_sql\", execute_sql)\n",
    "workflow.add_node(\"generate_human_readable_answer\", generate_human_readable_answer)\n",
    "\n",
    "workflow.add_edge(\"get_current_user\", \"check_relevance\")\n",
    "workflow.add_conditional_edges(\n",
    "    \"check_relevance\",\n",
    "    relevance_router,\n",
    "    {\n",
    "        \"convert_to_sql\": \"convert_to_sql\",\n",
    "        \"END\": END,\n",
    "    },\n",
    ")\n",
    "\n",
    "workflow.add_conditional_edges(\n",
    "    \"execute_sql\",\n",
    "    execute_sql_router,\n",
    "    {\n",
    "        \"generate_human_readable_answer\": \"generate_human_readable_answer\",\n",
    "        \"END\": END,\n",
    "    },\n",
    ")\n",
    "workflow.add_edge(\"convert_to_sql\", \"execute_sql\")\n",
    "workflow.add_edge(\"generate_human_readable_answer\", END)\n",
    "workflow.set_entry_point(\"get_current_user\")\n",
    "\n",
    "app = workflow.compile()"
   ]
  },
  {
   "cell_type": "code",
   "execution_count": 7,
   "metadata": {},
   "outputs": [
    {
     "data": {
      "image/jpeg": "[encoded data removed]",
      "text/plain": [
       "<IPython.core.display.Image object>"
      ]
     },
     "metadata": {},
     "output_type": "display_data"
    }
   ],
   "source": [
    "from IPython.display import Image, display\n",
    "\n",
    "try:\n",
    "    display(Image(app.get_graph(xray=True).draw_mermaid_png()))\n",
    "except:\n",
    "    pass"
   ]
  },
  {
   "cell_type": "code",
   "execution_count": 8,
   "metadata": {},
   "outputs": [
    {
     "name": "stdout",
     "output_type": "stream",
     "text": [
      "Retrieving the current user based on user ID.\n",
      "Current user set to: User 2\n",
      "Retrieved database schema.\n",
      "Checking relevance of the question: how much does food 3 cost?\n",
      "Relevance determined: relevant\n",
      "Retrieved database schema.\n",
      "Converting question to SQL for user 'User 2': how much does food 3 cost?\n",
      "Generated SQL query: SELECT food.price FROM food WHERE food.id = 3;\n",
      "Executing SQL query: SELECT food.price FROM food WHERE food.id = 3;\n",
      "Raw SQL Query Result: [{'price': 42.0}]\n",
      "SQL SELECT query executed successfully.\n",
      "Generating a human-readable answer.\n",
      "Generated human-readable answer.\n",
      "Result: {'question': 'how much does food 3 cost?', 'sql_query': 'SELECT food.price FROM food WHERE food.id = 3;', 'query_result': 'Hello User 2, the price of food item 3 is $42.0.', 'query_rows': [{'price': 42.0}], 'current_user': 'User 2', 'attempts': 0, 'relevance': 'relevant', 'sql_error': False}\n"
     ]
    }
   ],
   "source": [
    "config = {\"configurable\": {\"current_user_id\": \"2\"}}\n",
    "user_question_1 = \"how much does food 3 cost?\"\n",
    "result_1 = app.invoke({\"question\": user_question_1, \"attempts\": 0}, config=config)\n",
    "print(\"Result:\", result_1)"
   ]
  },
  {
   "cell_type": "code",
   "execution_count": 9,
   "metadata": {},
   "outputs": [
    {
     "data": {
      "text/plain": [
       "'Hello User 2, the price of food item 3 is $42.0.'"
      ]
     },
     "execution_count": 9,
     "metadata": {},
     "output_type": "execute_result"
    }
   ],
   "source": [
    "result_1['query_result']"
   ]
  },
  {
   "cell_type": "code",
   "execution_count": 11,
   "metadata": {},
   "outputs": [
    {
     "name": "stdout",
     "output_type": "stream",
     "text": [
      "Retrieving the current user based on user ID.\n",
      "Current user set to: User 2\n",
      "Retrieved database schema.\n",
      "Checking relevance of the question: Show me my orders\n",
      "Relevance determined: relevant\n",
      "Retrieved database schema.\n",
      "Converting question to SQL for user 'User 2': Show me my orders\n",
      "Generated SQL query: SELECT food.name AS food_name, food.price AS price FROM orders INNER JOIN food ON orders.food_id = food.id INNER JOIN users ON orders.user_id = users.id WHERE users.id = 2;\n",
      "Executing SQL query: SELECT food.name AS food_name, food.price AS price FROM orders INNER JOIN food ON orders.food_id = food.id INNER JOIN users ON orders.user_id = users.id WHERE users.id = 2;\n",
      "Raw SQL Query Result: [{'food_name': 'Food 14', 'price': 48.8}, {'food_name': 'Food 8', 'price': 25.35}, {'food_name': 'Food 1', 'price': 38.31}, {'food_name': 'Food 2', 'price': 34.57}, {'food_name': 'Food 4', 'price': 15.42}, {'food_name': 'Food 7', 'price': 6.02}, {'food_name': 'Food 11', 'price': 36.42}, {'food_name': 'Food 6', 'price': 29.85}, {'food_name': 'Food 13', 'price': 47.36}]\n",
      "SQL SELECT query executed successfully.\n",
      "Generating a human-readable answer.\n",
      "Generated human-readable answer.\n",
      "Result: {'question': 'Show me my orders', 'sql_query': 'SELECT food.name AS food_name, food.price AS price FROM orders INNER JOIN food ON orders.food_id = food.id INNER JOIN users ON orders.user_id = users.id WHERE users.id = 2;', 'query_result': 'Hello User 2, you have ordered Food 14 for $48.80, Food 8 for $25.35, Food 1 for $38.31, Food 2 for $34.57, Food 4 for $15.42, Food 7 for $6.02, Food 11 for $36.42, Food 6 for $29.85, and Food 13 for $47.36.', 'query_rows': [{'food_name': 'Food 14', 'price': 48.8}, {'food_name': 'Food 8', 'price': 25.35}, {'food_name': 'Food 1', 'price': 38.31}, {'food_name': 'Food 2', 'price': 34.57}, {'food_name': 'Food 4', 'price': 15.42}, {'food_name': 'Food 7', 'price': 6.02}, {'food_name': 'Food 11', 'price': 36.42}, {'food_name': 'Food 6', 'price': 29.85}, {'food_name': 'Food 13', 'price': 47.36}], 'current_user': 'User 2', 'attempts': 0, 'relevance': 'relevant', 'sql_error': False}\n"
     ]
    }
   ],
   "source": [
    "user_question_1 = \"Show me my orders\"\n",
    "result_1 = app.invoke({\"question\": user_question_1, \"attempts\": 0}, config=config)\n",
    "print(\"Result:\", result_1)"
   ]
  }
 ],
 "metadata": {
  "kernelspec": {
   "display_name": "langgraph",
   "language": "python",
   "name": "python3"
  },
  "language_info": {
   "codemirror_mode": {
    "name": "ipython",
    "version": 3
   },
   "file_extension": ".py",
   "mimetype": "text/x-python",
   "name": "python",
   "nbconvert_exporter": "python",
   "pygments_lexer": "ipython3",
   "version": "3.11.10"
  }
 },
 "nbformat": 4,
 "nbformat_minor": 2
}
