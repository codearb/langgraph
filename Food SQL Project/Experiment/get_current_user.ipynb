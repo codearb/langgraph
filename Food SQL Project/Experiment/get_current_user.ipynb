{
 "cells": [
  {
   "cell_type": "code",
   "execution_count": 1,
   "metadata": {},
   "outputs": [],
   "source": [
    "import os\n",
    "os.chdir(\"../\")"
   ]
  },
  {
   "cell_type": "code",
   "execution_count": 2,
   "metadata": {},
   "outputs": [],
   "source": [
    "from src.entity import AgentState, SessionLocal, User\n",
    "from langchain_core.runnables.config import RunnableConfig\n",
    "from langgraph.graph import StateGraph, END"
   ]
  },
  {
   "cell_type": "code",
   "execution_count": 3,
   "metadata": {},
   "outputs": [],
   "source": [
    "def get_current_user(state: AgentState, config: RunnableConfig):\n",
    "    print(\"Retrieving the current user based on user ID.\")\n",
    "    user_id = config[\"configurable\"].get(\"current_user_id\", None)\n",
    "    if not user_id:\n",
    "        state[\"current_user\"] = \"User not found\"\n",
    "        print(\"No user ID provided in the configuration.\")\n",
    "        return state\n",
    "    session = SessionLocal()\n",
    "    try:\n",
    "        user = session.query(User).filter(User.id == int(user_id)).first()\n",
    "        if user:\n",
    "            state[\"current_user\"] = user.name\n",
    "            print(f\"Current user set to: {state['current_user']}\")\n",
    "        else:\n",
    "            state[\"current_user\"] = \"User not found\"\n",
    "            print(\"User not found in the database.\")\n",
    "    except Exception as e:\n",
    "        state[\"current_user\"] = \"Error retrieving user\"\n",
    "        print(f\"Error retrieving user: {str(e)}\")\n",
    "    finally:\n",
    "        session.close()\n",
    "    return state"
   ]
  },
  {
   "cell_type": "code",
   "execution_count": 4,
   "metadata": {},
   "outputs": [],
   "source": [
    "workflow = StateGraph(AgentState)\n",
    "\n",
    "workflow.add_node(\"get_current_user\", get_current_user)\n",
    "workflow.set_entry_point(\"get_current_user\")\n",
    "workflow.add_edge(\"get_current_user\", END)\n",
    "app = workflow.compile()"
   ]
  },
  {
   "cell_type": "code",
   "execution_count": 5,
   "metadata": {},
   "outputs": [
    {
     "data": {
      "image/jpeg": "[encoded data removed]",
      "text/plain": [
       "<IPython.core.display.Image object>"
      ]
     },
     "metadata": {},
     "output_type": "display_data"
    }
   ],
   "source": [
    "from IPython.display import Image, display\n",
    "\n",
    "try:\n",
    "    display(Image(app.get_graph().draw_mermaid_png()))\n",
    "except:\n",
    "    pass"
   ]
  },
  {
   "cell_type": "code",
   "execution_count": 6,
   "metadata": {},
   "outputs": [],
   "source": [
    "config = {\"configurable\": {\"current_user_id\": \"2\"}}"
   ]
  },
  {
   "cell_type": "code",
   "execution_count": 7,
   "metadata": {},
   "outputs": [
    {
     "name": "stdout",
     "output_type": "stream",
     "text": [
      "Retrieving the current user based on user ID.\n",
      "Current user set to: User 2\n",
      "Result: User 2\n"
     ]
    }
   ],
   "source": [
    "user_question_1 = \"Create a new order for food 12.\"\n",
    "result_1 = app.invoke({\"question\": user_question_1, \"attempts\": 0}, config=config)\n",
    "print(\"Result:\", result_1['current_user'])"
   ]
  },
  {
   "cell_type": "code",
   "execution_count": 8,
   "metadata": {},
   "outputs": [
    {
     "name": "stdout",
     "output_type": "stream",
     "text": [
      "Retrieving the current user based on user ID.\n",
      "No user ID provided in the configuration.\n",
      "Result: User not found\n"
     ]
    }
   ],
   "source": [
    "config = {\"configurable\": {\"current_user_id\": \"\"}}\n",
    "user_question_1 = \"Create a new order for food 12.\"\n",
    "result_1 = app.invoke({\"question\": user_question_1, \"attempts\": 0}, config=config)\n",
    "print(\"Result:\", result_1['current_user'])"
   ]
  },
  {
   "cell_type": "code",
   "execution_count": 9,
   "metadata": {},
   "outputs": [
    {
     "name": "stdout",
     "output_type": "stream",
     "text": [
      "Retrieving the current user based on user ID.\n",
      "User not found in the database.\n",
      "Result: User not found\n"
     ]
    }
   ],
   "source": [
    "config = {\"configurable\": {\"current_user_id\": \"2000\"}}\n",
    "user_question_1 = \"Create a new order for food 12.\"\n",
    "result_1 = app.invoke({\"question\": user_question_1, \"attempts\": 0}, config=config)\n",
    "print(\"Result:\", result_1['current_user'])"
   ]
  }
 ],
 "metadata": {
  "kernelspec": {
   "display_name": "langgraph",
   "language": "python",
   "name": "python3"
  },
  "language_info": {
   "codemirror_mode": {
    "name": "ipython",
    "version": 3
   },
   "file_extension": ".py",
   "mimetype": "text/x-python",
   "name": "python",
   "nbconvert_exporter": "python",
   "pygments_lexer": "ipython3",
   "version": "3.11.10"
  }
 },
 "nbformat": 4,
 "nbformat_minor": 2
}
